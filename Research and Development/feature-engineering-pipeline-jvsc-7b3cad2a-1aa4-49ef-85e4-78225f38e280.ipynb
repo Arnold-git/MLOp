{
 "cells": [
  {
   "cell_type": "code",
   "execution_count": null,
   "metadata": {},
   "outputs": [],
   "source": []
  }
 ],
 "metadata": {
  "kernelspec": {
   "display_name": "Python 3.8.13 ('env': venv)",
   "language": "python",
   "name": "python3"
  },
  "language_info": {
   "name": "python",
   "version": "3.8.13"
  },
  "vscode": {
   "interpreter": {
    "hash": "8957aee21f29590461af2a48414c66c4d86b7c449264058c3c62786bbf5308d6"
   }
  }
 },
 "nbformat": 4,
 "nbformat_minor": 5
}
