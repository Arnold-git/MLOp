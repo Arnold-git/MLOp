{
 "cells": [
  {
   "cell_type": "markdown",
   "metadata": {},
   "source": [
    "# ML Pipeline - Model Training"
   ]
  },
  {
   "cell_type": "code",
   "execution_count": null,
   "metadata": {},
   "outputs": [],
   "source": [
    "# data wrangling\n",
    "import pandas as pd\n",
    "import numpy as np\n",
    "\n",
    "# plotting\n",
    "import matplotlib.pyplot as plt\n",
    "\n",
    "# to  save model\n",
    "import joblib \n",
    "\n",
    "# build model\n",
    "from sklearn.linear_model import LassoCV\n",
    "\n",
    "# model evaluation\n",
    "from sklearn.metrics import mean_absolute_error, r2_score\n",
    "\n",
    "# visualise all columns \n",
    "pd.pandas.set_options('display.max_columns', None)"
   ]
  }
 ],
 "metadata": {
  "language_info": {
   "name": "python"
  },
  "orig_nbformat": 4
 },
 "nbformat": 4,
 "nbformat_minor": 2
}
