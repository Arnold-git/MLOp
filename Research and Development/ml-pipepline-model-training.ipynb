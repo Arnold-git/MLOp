{
 "cells": [
  {
   "cell_type": "markdown",
   "metadata": {},
   "source": [
    "# ML Pipeline - Model Training"
   ]
  },
  {
   "cell_type": "code",
   "execution_count": null,
   "metadata": {},
   "outputs": [],
   "source": [
    "# data wrangling\n",
    "import pandas as pd\n",
    "import numpy as np\n",
    "\n",
    "# plotting\n",
    "import matplotlib.pyplot as plt\n",
    "\n",
    "# to  save model\n",
    "import joblib \n",
    "\n",
    "# build model\n",
    "from sklearn.linear_model import Lasso\n",
    "\n",
    "# model evaluation\n",
    "from sklearn.metrics import mean_squared_error, r2_score\n",
    "\n",
    "# visualise all columns \n",
    "pd.pandas.set_option('display.max_columns', None)"
   ]
  },
  {
   "cell_type": "code",
   "execution_count": null,
   "metadata": {},
   "outputs": [],
   "source": [
    "X_train = pd.read_csv('xtrain.csv')\n",
    "X_test = pd.read_csv('xtest.csv')\n",
    "\n",
    "\n",
    "X_train.head(3)"
   ]
  },
  {
   "cell_type": "code",
   "execution_count": null,
   "metadata": {},
   "outputs": [],
   "source": [
    "y_train = pd.read_csv('ytrain.csv')\n",
    "y_test = pd.read_csv('ytest.csv')\n",
    "\n",
    "y_train.head(4)"
   ]
  },
  {
   "cell_type": "code",
   "execution_count": null,
   "metadata": {},
   "outputs": [],
   "source": [
    "# load pre-selected feature from feature selection notebook\n",
    "\n",
    "features = pd.read_csv('selected_features.csv')\n",
    "features.head(2)"
   ]
  },
  {
   "cell_type": "code",
   "execution_count": null,
   "metadata": {},
   "outputs": [],
   "source": [
    "features = features['0'].to_list()\n",
    "\n",
    "features"
   ]
  },
  {
   "cell_type": "code",
   "execution_count": null,
   "metadata": {},
   "outputs": [],
   "source": [
    "X_train = X_train[features]\n",
    "X_test = X_test[features]"
   ]
  },
  {
   "cell_type": "markdown",
   "metadata": {},
   "source": [
    "### Regularise linear Regression: Lasso"
   ]
  },
  {
   "cell_type": "code",
   "execution_count": null,
   "metadata": {},
   "outputs": [],
   "source": [
    "# random seed -> for reproduceability purpose\n",
    "\n",
    "lin_model = Lasso(alpha=0.001, random_state=0)\n",
    "\n",
    "lin_model.fit(X_train, y_train)"
   ]
  },
  {
   "cell_type": "code",
   "execution_count": null,
   "metadata": {},
   "outputs": [],
   "source": [
    "# evaluate the model: \n",
    "# mse, rmse and r2 will be used for model evaluation\n",
    "\n",
    "# make prediction on train set\n",
    "pred = lin_model.predict(X_train)\n",
    "\n",
    "print(f'train mse: {int(mean_squared_error(np.exp(y_train), np.exp(pred)))}')\n",
    "\n",
    "print(f'train rmse: {int(mean_squared_error(np.exp(y_train), np.exp(pred), squared=False))}')\n",
    "\n",
    "print(f'train r3: {r2_score(np.exp(y_train), np.exp(pred))}')\n",
    "\n",
    "print('======================')\n",
    "\n",
    "\n",
    "pred = lin_model.predict(X_test)\n",
    "\n",
    "\n",
    "print(f'train mse: {int(mean_squared_error(np.exp(y_test), np.exp(pred)))}')\n",
    "\n",
    "print(f'train rmse: {int(mean_squared_error(np.exp(pred), squared=False))}')\n",
    "\n",
    "print(f'train r3: {r2_score(np.exp(y_train), np.exp(pred))}')"
   ]
  }
 ],
 "metadata": {
  "interpreter": {
   "hash": "523ec6c326a4696dec03b80f6db973a9f0fc6bee5711f1eac6d681560dee0a40"
  },
  "kernelspec": {
   "display_name": "Python 3.8.10 ('env': venv)",
   "language": "python",
   "name": "python3"
  },
  "language_info": {
   "codemirror_mode": {
    "name": "ipython",
    "version": 3
   },
   "file_extension": ".py",
   "mimetype": "text/x-python",
   "name": "python",
   "nbconvert_exporter": "python",
   "pygments_lexer": "ipython3",
   "version": "3.8.10"
  },
  "orig_nbformat": 4
 },
 "nbformat": 4,
 "nbformat_minor": 2
}
